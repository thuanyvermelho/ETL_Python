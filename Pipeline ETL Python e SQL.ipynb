{
 "cells": [
  {
   "cell_type": "markdown",
   "id": "31d79cd9",
   "metadata": {},
   "source": [
    "### Criação de Pipeline de Extração, Limpeza, Transformação e Enriquecimento de Dados"
   ]
  },
  {
   "cell_type": "markdown",
   "id": "900654f7",
   "metadata": {},
   "source": [
    "#### Etapa 1 \n",
    "\n",
    "Vamos criar um banco de dados totalmente novo utilizando SQLite. Primeiramente, vamos criar uma tabela denominada \"produto\". Em seguida, abriremos um arquivo CSV e importaremos os dados desse arquivo para preencher nossa tabela."
   ]
  },
  {
   "cell_type": "code",
   "execution_count": 1,
   "id": "e06f6a06",
   "metadata": {},
   "outputs": [
    {
     "name": "stdout",
     "output_type": "stream",
     "text": [
      "Job Concluído com Sucesso!\n"
     ]
    }
   ],
   "source": [
    "# Imports\n",
    "import csv\n",
    "import sqlite3\n",
    "\n",
    "# Cria um novo banco de dados\n",
    "conn = sqlite3.connect('dsadb.db')\n",
    "\n",
    "# Cria uma tabela para armazenar os dados de produção de alimentos\n",
    "conn.execute('''CREATE TABLE producao (\n",
    "                produto TEXT,\n",
    "                quantidade INTEGER,\n",
    "                preco_medio REAL,\n",
    "                receita_total REAL\n",
    "            )''')\n",
    "\n",
    "# Grava e fecha a conexão\n",
    "conn.commit()\n",
    "conn.close()\n",
    "\n",
    "# Abre o arquivo CSV com os dados de produção de alimentos\n",
    "with open('producao_alimentos.csv', 'r') as file:\n",
    "    \n",
    "    # Cria um leitor de CSV para ler o arquivo\n",
    "    reader = csv.reader(file)\n",
    "\n",
    "    # Pula a primeira linha, que contém os cabeçalhos das colunas\n",
    "    next(reader)\n",
    "\n",
    "    # Conecta ao banco de dados\n",
    "    conn = sqlite3.connect('dsadb.db')\n",
    "\n",
    "    # Insere cada linha do arquivo na tabela do banco de dados\n",
    "    for row in reader:\n",
    "        conn.execute('INSERT INTO producao (produto, quantidade, preco_medio, receita_total) VALUES (?, ?, ?, ?)', row)\n",
    "\n",
    "    conn.commit()\n",
    "    conn.close()\n",
    "\n",
    "print(\"Job Concluído com Sucesso!\")"
   ]
  },
  {
   "cell_type": "markdown",
   "id": "beae9ad3",
   "metadata": {},
   "source": [
    "[Imagem do Banco de dados](C:\\Python - DSA\\demo4/1.png)"
   ]
  },
  {
   "cell_type": "markdown",
   "id": "4a45f3e7",
   "metadata": {},
   "source": [
    "#### Etapa 2\n",
    "\n",
    "Após revisar a tabela recém-criada e observar que a coluna \"receita\" foi carregada com uma formatação inadequada, procederemos à abertura do arquivo CSV intitulado \"produtos alimentos\". Nesse ponto, removeremos a tabela existente e substituiremos por uma nova, permitindo-nos realizar as devidas correções em conformidade com as diretrizes estabelecidas pelas regras de negócio.\n",
    "\n",
    "#### Regra de negócio 1 : Carregar somente registros com quantidade produzida superior a 10."
   ]
  },
  {
   "cell_type": "code",
   "execution_count": 2,
   "id": "c44c4c11",
   "metadata": {},
   "outputs": [
    {
     "name": "stdout",
     "output_type": "stream",
     "text": [
      "Job Concluído com Sucesso!\n"
     ]
    }
   ],
   "source": [
    "# Abre o arquivo CSV com os dados da produção de alimentos\n",
    "with open('producao_alimentos.csv', 'r') as file:\n",
    "    \n",
    "    # Cria um leitor de CSV para ler o arquivo\n",
    "    reader = csv.reader(file)\n",
    "\n",
    "    # Pula a primeira linha, que contém os cabeçalhos das colunas\n",
    "    next(reader)\n",
    "\n",
    "    # Conecta ao banco de dados\n",
    "    conn = sqlite3.connect('dsadb.db')\n",
    "\n",
    "    # Deleta a tabela existente, se houver\n",
    "    conn.execute('DROP TABLE IF EXISTS producao')\n",
    "\n",
    "    # Cria uma nova tabela para armazenar os dados de produção de alimentos\n",
    "    conn.execute('''CREATE TABLE producao (\n",
    "                    produto TEXT,\n",
    "                    quantidade INTEGER,\n",
    "                    preco_medio REAL,\n",
    "                    receita_total REAL\n",
    "                )''')\n",
    "\n",
    "    # Insere cada linha do arquivo com quantidade maior que 10 na tabela do banco de dados\n",
    "    for row in reader:\n",
    "        if int(row[1]) > 10:\n",
    "            conn.execute('INSERT INTO producao (produto, quantidade, preco_medio, receita_total) VALUES (?, ?, ?, ?)', row)\n",
    "\n",
    "    conn.commit()\n",
    "    conn.close()\n",
    "\n",
    "print(\"Job Concluído com Sucesso!\")"
   ]
  },
  {
   "cell_type": "markdown",
   "id": "085c5ffd",
   "metadata": {},
   "source": [
    "#### Etapa 3\n",
    "\n",
    "Vamos desenvolver uma função que elimine os pontos da coluna \"receita_total\", uma vez que essa coluna não está apresentando com precisão os valores das receitas. Adicionalmente, iremos implementar a primeira regra de negócio e incorporar a segunda regra de negócio, que inclui a conversão do valor para um número inteiro.\n",
    "\n",
    "#### Regra de negócio 2 : Remover o caracter \"ponto\" na última coluna do arquivo para evitar que o número seja truncado "
   ]
  },
  {
   "cell_type": "code",
   "execution_count": 3,
   "id": "4d389f4f",
   "metadata": {},
   "outputs": [
    {
     "name": "stdout",
     "output_type": "stream",
     "text": [
      "Job Concluído com Sucesso!\n"
     ]
    }
   ],
   "source": [
    "# Função para remover o ponto nos dados da última coluna\n",
    "def remove_ponto(valor):\n",
    "    return int(valor.replace('.', ''))\n",
    "\n",
    "# Abre o arquivo CSV com os dados da produção de alimentos\n",
    "with open('producao_alimentos.csv', 'r') as file:\n",
    "    \n",
    "    # Cria um leitor de CSV para ler o arquivo\n",
    "    reader = csv.reader(file)\n",
    "\n",
    "    # Pula a primeira linha, que contém os cabeçalhos das colunas\n",
    "    next(reader)\n",
    "\n",
    "    # Conecta ao banco de dados\n",
    "    conn = sqlite3.connect('dsadb.db')\n",
    "\n",
    "    # Deleta a tabela existente, se houver\n",
    "    conn.execute('DROP TABLE IF EXISTS producao')\n",
    "\n",
    "    # Cria uma nova tabela para armazenar os dados de produção de alimentos\n",
    "    conn.execute('''CREATE TABLE producao (\n",
    "                    produto TEXT,\n",
    "                    quantidade INTEGER,\n",
    "                    preco_medio REAL,\n",
    "                    receita_total INTEGER\n",
    "                )''')\n",
    "\n",
    "    # Insere cada linha do arquivo com quantidade maior que 10 na tabela do banco de dados\n",
    "    for row in reader:\n",
    "        if int(row[1]) > 10:\n",
    "            \n",
    "            # Remove o ponto do valor da última coluna e converte para inteiro\n",
    "            row[3] = remove_ponto(row[3])\n",
    "\n",
    "            # Insere o registro no banco de dados\n",
    "            conn.execute('INSERT INTO producao (produto, quantidade, preco_medio, receita_total) VALUES (?, ?, ?, ?)', row)\n",
    "\n",
    "    conn.commit()\n",
    "    conn.close()\n",
    "\n",
    "print(\"Job Concluído com Sucesso!\")\n"
   ]
  },
  {
   "cell_type": "markdown",
   "id": "c206d0cd",
   "metadata": {},
   "source": [
    "#### Etapa 4\n",
    "\n",
    "Além disso, vamos incorporar a terceira regra de negócio, que envolve a inclusão de uma nova coluna na tabela, denominada \"margem de lucro\". Essa adição será feita enquanto mantemos as regras anteriores intactas, garantindo assim a integridade das modificações realizadas.\n",
    "\n",
    "#### Regra de negócio 3 : Enriquecer os dados adicionando no destino uma coluna com a margem de lucro de cada produto"
   ]
  },
  {
   "cell_type": "code",
   "execution_count": 4,
   "id": "3f9015ee",
   "metadata": {},
   "outputs": [
    {
     "name": "stdout",
     "output_type": "stream",
     "text": [
      "Job Concluído com Sucesso!\n"
     ]
    }
   ],
   "source": [
    "# Função para remover o ponto da última coluna\n",
    "def remove_ponto(valor):\n",
    "    return int(valor.replace('.', ''))\n",
    "\n",
    "# Abre o arquivo CSV com os dados da produção de alimentos\n",
    "with open('producao_alimentos.csv', 'r') as file:\n",
    "    \n",
    "    # Cria um leitor de CSV para ler o arquivo\n",
    "    reader = csv.reader(file)\n",
    "\n",
    "    # Pula a primeira linha, que contém os cabeçalhos das colunas\n",
    "    next(reader)\n",
    "\n",
    "    # Conecta ao banco de dados\n",
    "    conn = sqlite3.connect('dsadb.db')\n",
    "\n",
    "    # Deleta a tabela existente, se houver\n",
    "    conn.execute('DROP TABLE IF EXISTS producao')\n",
    "\n",
    "    # Cria uma nova tabela para armazenar os dados de produção de alimentos com a nova coluna 'margem_lucro'\n",
    "    conn.execute('''CREATE TABLE producao (\n",
    "                    produto TEXT,\n",
    "                    quantidade INTEGER,\n",
    "                    preco_medio REAL,\n",
    "                    receita_total INTEGER,\n",
    "                    margem_lucro REAL\n",
    "                )''')\n",
    "\n",
    "    # Insere cada linha do arquivo com quantidade maior que 10 na tabela do banco de dados\n",
    "    for row in reader:\n",
    "        if int(row[1]) > 10:\n",
    "            \n",
    "            # Remove o ponto do valor da última coluna e converte para inteiro\n",
    "            row[3] = remove_ponto(row[3])\n",
    "\n",
    "            # Calcula a margem de lucro bruta com base no valor médio de venda e na receita total\n",
    "            margem_lucro = (row[3] / float(row[1])) - float(row[2])\n",
    "\n",
    "            # Insere a linha com a nova coluna 'margem_lucro' na tabela do banco de dados\n",
    "            conn.execute('INSERT INTO producao (produto, quantidade, preco_medio, receita_total, margem_lucro) VALUES (?, ?, ?, ?, ?)', (row[0], row[1], row[2], row[3], margem_lucro))\n",
    "\n",
    "    conn.commit()\n",
    "    conn.close()\n",
    "\n",
    "print(\"Job Concluído com Sucesso!\")\n"
   ]
  },
  {
   "cell_type": "markdown",
   "id": "0493df4e",
   "metadata": {},
   "source": [
    "#### Etapa 5\n",
    "\n",
    "Vamos realizar a padronização e formatação do resultado da coluna \"margem_lucro\" da \"receita_total\", adotando o mesmo formato da variável \"margem_lucro\" e aplicando o arredondamento para duas casas decimais por meio do uso da função \"round\"."
   ]
  },
  {
   "cell_type": "code",
   "execution_count": 5,
   "id": "a44af030",
   "metadata": {},
   "outputs": [
    {
     "name": "stdout",
     "output_type": "stream",
     "text": [
      "Job Concluído com Sucesso!\n"
     ]
    }
   ],
   "source": [
    "# Função para remover o ponto da última coluna\n",
    "def remove_ponto(valor):\n",
    "    return int(round(float(valor.replace('.', '')), 0))\n",
    "\n",
    "# Abre o arquivo CSV com os dados da produção de alimentos\n",
    "with open('producao_alimentos.csv', 'r') as file:\n",
    "    \n",
    "    # Cria um leitor de CSV para ler o arquivo\n",
    "    reader = csv.reader(file)\n",
    "\n",
    "    # Pula a primeira linha, que contém os cabeçalhos das colunas\n",
    "    next(reader)\n",
    "\n",
    "    # Conecta ao banco de dados\n",
    "    conn = sqlite3.connect('dsadb.db')\n",
    "\n",
    "    # Deleta a tabela existente, se houver\n",
    "    conn.execute('DROP TABLE IF EXISTS producao')\n",
    "\n",
    "    # Cria uma nova tabela para armazenar os dados de produção de alimentos com a nova coluna 'margem_lucro'\n",
    "    conn.execute('''CREATE TABLE producao (\n",
    "                    produto TEXT,\n",
    "                    quantidade INTEGER,\n",
    "                    preco_medio REAL,\n",
    "                    receita_total INTEGER,\n",
    "                    margem_lucro REAL\n",
    "                )''')\n",
    "\n",
    "    # Insere cada linha do arquivo com quantidade maior que 10 na tabela do banco de dados\n",
    "    for row in reader:\n",
    "        if int(row[1]) > 10:\n",
    "            \n",
    "            # Remove o ponto do valor da última coluna e converte para inteiro\n",
    "            row[3] = remove_ponto(row[3])\n",
    "\n",
    "            # Calcula a margem de lucro bruta com base no valor médio de venda e na receita total e arredonda para duas casas decimais\n",
    "            margem_lucro = round((row[3] / float(row[1])) - float(row[2]), 2)\n",
    "\n",
    "            # Insere a linha com a nova coluna 'margem_lucro' na tabela do banco de dados\n",
    "            conn.execute('INSERT INTO producao (produto, quantidade, preco_medio, receita_total, margem_lucro) VALUES (?, ?, ?, ?, ?)', (row[0], row[1], row[2], row[3], margem_lucro))\n",
    "\n",
    "    conn.commit()\n",
    "    conn.close()\n",
    "\n",
    "print(\"Job Concluído com Sucesso!\")"
   ]
  },
  {
   "cell_type": "code",
   "execution_count": null,
   "id": "a39c7ec5",
   "metadata": {},
   "outputs": [],
   "source": []
  }
 ],
 "metadata": {
  "kernelspec": {
   "display_name": "Python 3 (ipykernel)",
   "language": "python",
   "name": "python3"
  },
  "language_info": {
   "codemirror_mode": {
    "name": "ipython",
    "version": 3
   },
   "file_extension": ".py",
   "mimetype": "text/x-python",
   "name": "python",
   "nbconvert_exporter": "python",
   "pygments_lexer": "ipython3",
   "version": "3.9.13"
  }
 },
 "nbformat": 4,
 "nbformat_minor": 5
}
